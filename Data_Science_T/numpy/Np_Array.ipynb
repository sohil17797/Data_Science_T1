{
 "cells": [
  {
   "cell_type": "markdown",
   "id": "d07f2dcd",
   "metadata": {},
   "source": [
    "# 7/12/22"
   ]
  },
  {
   "cell_type": "code",
   "execution_count": 1,
   "id": "63ff8e9e",
   "metadata": {},
   "outputs": [],
   "source": [
    "import numpy as np"
   ]
  },
  {
   "cell_type": "code",
   "execution_count": 5,
   "id": "c6ae38d2",
   "metadata": {},
   "outputs": [
    {
     "name": "stdout",
     "output_type": "stream",
     "text": [
      "[12 22 32 42]\n",
      "[ 8 18 28 38]\n",
      "[12 22 32 42]\n",
      "[12 22 32 42]\n",
      "[12 22 32 42]\n"
     ]
    }
   ],
   "source": [
    "# Arithmatic Operators\n",
    "# it will add simpaly in each element\n",
    "arr = np.array([10,20,30,40])\n",
    "print(arr+2)\n",
    "print(arr-2)\n",
    "print(arr+2)\n",
    "print(arr+2)\n",
    "print(arr+2)"
   ]
  },
  {
   "cell_type": "code",
   "execution_count": 6,
   "id": "b4ff6cd4",
   "metadata": {},
   "outputs": [
    {
     "name": "stdout",
     "output_type": "stream",
     "text": [
      "[60 70 80 90]\n",
      "[ 500 1000 1500 2000]\n"
     ]
    }
   ],
   "source": [
    "# roadcasting\n",
    "# shape size dim it will perform operation as simple \n",
    "a = np.array([10,20,30,40])\n",
    "b = np.array([50])\n",
    "\n",
    "print(a+b)\n",
    "print(a*b)"
   ]
  },
  {
   "cell_type": "code",
   "execution_count": 7,
   "id": "7d702852",
   "metadata": {},
   "outputs": [
    {
     "name": "stdout",
     "output_type": "stream",
     "text": [
      "[[20 40]\n",
      " [40 60]\n",
      " [60 80]]\n",
      "[[ 0  0]\n",
      " [20 20]\n",
      " [40 40]]\n",
      "[[ 100  400]\n",
      " [ 300  800]\n",
      " [ 500 1200]]\n",
      "[[1. 1.]\n",
      " [3. 2.]\n",
      " [5. 3.]]\n",
      "[[0 0]\n",
      " [0 0]\n",
      " [0 0]]\n"
     ]
    }
   ],
   "source": [
    "# it will perform simplay \n",
    "a = np.array([[10,20],[30,40],[50,60]])\n",
    "b = np.array([10,20])\n",
    "\n",
    "print(a+b)\n",
    "print(a-b)\n",
    "print(a*b)\n",
    "print(a/b)\n",
    "print(a%b)"
   ]
  },
  {
   "cell_type": "code",
   "execution_count": 11,
   "id": "1d2276a4",
   "metadata": {},
   "outputs": [
    {
     "name": "stdout",
     "output_type": "stream",
     "text": [
      "[[10 10 10]\n",
      " [20 20 20]\n",
      " [30 30 30]]\n",
      "[[10 10 10]\n",
      " [20 20 20]\n",
      " [30 30 30]]\n",
      "[[0 0 0]\n",
      " [0 0 0]\n",
      " [0 0 0]]\n",
      "[[inf inf inf]\n",
      " [inf inf inf]\n",
      " [inf inf inf]]\n",
      "[[0 0 0]\n",
      " [0 0 0]\n",
      " [0 0 0]]\n"
     ]
    },
    {
     "name": "stderr",
     "output_type": "stream",
     "text": [
      "C:\\Users\\Dell\\AppData\\Local\\Temp\\ipykernel_12656\\2824352694.py:7: RuntimeWarning: divide by zero encountered in true_divide\n",
      "  print(a/b)\n",
      "C:\\Users\\Dell\\AppData\\Local\\Temp\\ipykernel_12656\\2824352694.py:8: RuntimeWarning: divide by zero encountered in remainder\n",
      "  print(a%b)\n"
     ]
    }
   ],
   "source": [
    "# it will add add each a's element in to b one by one\n",
    "a = np.array([[10],[20],[30]]) \n",
    "b = np.array([0,0,0])\n",
    "\n",
    "print(a+b)\n",
    "print(a-b)\n",
    "print(a*b)\n",
    "print(a/b)\n",
    "print(a%b)"
   ]
  },
  {
   "cell_type": "code",
   "execution_count": 13,
   "id": "8865489d",
   "metadata": {},
   "outputs": [
    {
     "name": "stdout",
     "output_type": "stream",
     "text": [
      "[[1 2 3]\n",
      " [4 5 1]\n",
      " [2 3 4]]\n"
     ]
    }
   ],
   "source": [
    "a = np.arange(1,6)\n",
    "b = np.resize(a,[3,3])\n",
    "print(b)"
   ]
  },
  {
   "cell_type": "code",
   "execution_count": 15,
   "id": "64df9358",
   "metadata": {},
   "outputs": [
    {
     "name": "stdout",
     "output_type": "stream",
     "text": [
      "[ 1  2  3  4  5  6  7  8  9 10 11 12 13 14 15 16 17 18 19 20 21 22 23 24\n",
      " 25 26 27]\n"
     ]
    }
   ],
   "source": [
    "# it will convert any ndim array to 1 D array\n",
    "a = np.arange(1,28).reshape(3,3,3)\n",
    "b = a.flatten()\n",
    "print(b)\n"
   ]
  },
  {
   "cell_type": "code",
   "execution_count": 18,
   "id": "10040694",
   "metadata": {},
   "outputs": [
    {
     "name": "stdout",
     "output_type": "stream",
     "text": [
      "2\n",
      "[1 2 3 4 5 6]\n",
      "1\n"
     ]
    }
   ],
   "source": [
    "arr = np.array([[1,2,3],[4,5,6]])\n",
    "print(arr.ndim)\n",
    "arr_flat = arr.flatten()\n",
    "print(arr_flat)\n",
    "print(arr_flat.ndim)"
   ]
  },
  {
   "cell_type": "code",
   "execution_count": 23,
   "id": "45adb9f4",
   "metadata": {},
   "outputs": [
    {
     "name": "stdout",
     "output_type": "stream",
     "text": [
      "[[1 2 3]\n",
      " [4 5 6]\n",
      " [7 8 9]]\n",
      "5\n"
     ]
    }
   ],
   "source": [
    "# flat is for find element at given index\n",
    "m = np.arange(1,10).reshape(3,3)\n",
    "print(m)\n",
    "print(m.flat[4])"
   ]
  },
  {
   "cell_type": "code",
   "execution_count": 24,
   "id": "d8e48fae",
   "metadata": {},
   "outputs": [
    {
     "name": "stdout",
     "output_type": "stream",
     "text": [
      "[[1 2 3]\n",
      " [4 5 6]\n",
      " [7 8 9]]\n",
      "[1 4 7 2 5 8 3 6 9]\n",
      "[1 2 3 4 5 6 7 8 9]\n",
      "[1 2 3 4 5 6 7 8 9]\n",
      "[1 2 3 4 5 6 7 8 9]\n"
     ]
    }
   ],
   "source": [
    "# ravel is for row-major and coloumn-major\n",
    "a = np.arange(1,10).reshape(3,3)\n",
    "print(a)\n",
    "print(a.ravel(\"F\"))\n",
    "print(a.ravel(\"C\"))\n",
    "print(a.ravel(\"K\"))\n",
    "print(a.ravel(\"A\"))"
   ]
  },
  {
   "cell_type": "code",
   "execution_count": 32,
   "id": "57f6d2bd",
   "metadata": {},
   "outputs": [
    {
     "name": "stdout",
     "output_type": "stream",
     "text": [
      "[1 2 3 4 5 6]\n"
     ]
    }
   ],
   "source": [
    "a = np.array([[1,2,3],[4,5,6]])\n",
    "print(a.ravel('A'))"
   ]
  },
  {
   "cell_type": "code",
   "execution_count": 33,
   "id": "2ea087db",
   "metadata": {},
   "outputs": [
    {
     "name": "stdout",
     "output_type": "stream",
     "text": [
      "[[1 2 3]\n",
      " [4 5 6]\n",
      " [7 8 9]]\n",
      "[[1 4 7]\n",
      " [2 5 8]\n",
      " [3 6 9]]\n"
     ]
    }
   ],
   "source": [
    "tr = np.arange(1,10).reshape(3,3)\n",
    "print(tr)\n",
    "tr1 = np.transpose(tr)\n",
    "print(tr1)"
   ]
  },
  {
   "cell_type": "code",
   "execution_count": 36,
   "id": "21466778",
   "metadata": {},
   "outputs": [
    {
     "name": "stdout",
     "output_type": "stream",
     "text": [
      "[[1 2 3]\n",
      " [4 5 6]\n",
      " [7 8 9]]\n",
      "[[1 4 7]\n",
      " [2 5 8]\n",
      " [3 6 9]]\n",
      "[[1 2 3]\n",
      " [4 5 6]\n",
      " [7 8 9]]\n",
      "[[1 4 7]\n",
      " [2 5 8]\n",
      " [3 6 9]]\n"
     ]
    }
   ],
   "source": [
    "tr2 = np.arange(1,10).reshape(3,3)\n",
    "print(tr2)\n",
    "print(np.transpose(tr2))\n",
    "print(np.transpose(tr2,axes=[0,1])) # it means simple matrix\n",
    "print(np.transpose(tr2,axes=[1,0])) # it means transpose of the matrix"
   ]
  },
  {
   "cell_type": "code",
   "execution_count": 41,
   "id": "de30b2f9",
   "metadata": {},
   "outputs": [
    {
     "name": "stdout",
     "output_type": "stream",
     "text": [
      "[[[ 1  2  3]\n",
      "  [ 4  5  6]\n",
      "  [ 7  8  9]]\n",
      "\n",
      " [[10 11 12]\n",
      "  [13 14 15]\n",
      "  [16 17 18]]\n",
      "\n",
      " [[19 20 21]\n",
      "  [22 23 24]\n",
      "  [25 26 27]]]\n",
      "[[[ 1 10 19]\n",
      "  [ 2 11 20]\n",
      "  [ 3 12 21]]\n",
      "\n",
      " [[ 4 13 22]\n",
      "  [ 5 14 23]\n",
      "  [ 6 15 24]]\n",
      "\n",
      " [[ 7 16 25]\n",
      "  [ 8 17 26]\n",
      "  [ 9 18 27]]]\n"
     ]
    }
   ],
   "source": [
    "tr3 = np.arange(1,28).reshape(3,3,3)\n",
    "print(tr3)\n",
    "# print(np.transpose(tr3,axes=(0,1,2))) # it is a simple matrix\n",
    "# print(np.transpose(tr3,axes=(1,0,2))) # each row of matrix will mke a single matrix from row 1 make 1st roe of matrix\n",
    "print(np.transpose(tr3,axes=(1,2,0))) # rach row convert into coloun of each matrix"
   ]
  },
  {
   "cell_type": "markdown",
   "id": "638b1f51",
   "metadata": {},
   "source": [
    "# 8/12/22"
   ]
  },
  {
   "cell_type": "code",
   "execution_count": 11,
   "id": "2ec0f108",
   "metadata": {},
   "outputs": [
    {
     "name": "stdout",
     "output_type": "stream",
     "text": [
      "[[1 2 3]\n",
      " [4 5 6]\n",
      " [7 8 9]]\n",
      "[[1 4 7]\n",
      " [2 5 8]\n",
      " [3 6 9]]\n",
      "[[1 4 7]\n",
      " [2 5 8]\n",
      " [3 6 9]]\n"
     ]
    }
   ],
   "source": [
    "a = np.arange(1,10).reshape(3,3)\n",
    "# b = np.arange(11,20).reshape(3,3)\n",
    "c = np.swapaxes(a, 0, 1)\n",
    "d = np.swapaxes(a, 1, 0)\n",
    "\n",
    "print(a)\n",
    "print(c)\n",
    "print(d)"
   ]
  },
  {
   "cell_type": "code",
   "execution_count": 13,
   "id": "830da214",
   "metadata": {},
   "outputs": [
    {
     "name": "stdout",
     "output_type": "stream",
     "text": [
      "[[1 2 3]\n",
      " [4 5 6]\n",
      " [7 8 9]]\n",
      "[[1 4 7]\n",
      " [2 5 8]\n",
      " [3 6 9]]\n",
      "[[1 4 7]\n",
      " [2 5 8]\n",
      " [3 6 9]]\n"
     ]
    }
   ],
   "source": [
    "ar1 = np.arange(1,10).reshape(3,3)\n",
    "changed = np.swapaxes(ar1, 0, 1)\n",
    "changed2 = np.swapaxes(ar1, 1, 0)\n",
    "\n",
    "print(ar1)\n",
    "print(changed)\n",
    "print(changed2)"
   ]
  },
  {
   "cell_type": "code",
   "execution_count": 20,
   "id": "01a90b0a",
   "metadata": {},
   "outputs": [
    {
     "name": "stdout",
     "output_type": "stream",
     "text": [
      "[[1 2 3]\n",
      " [4 5 6]\n",
      " [7 8 9]]\n",
      "[[11 12 13]\n",
      " [14 15 16]\n",
      " [17 18 19]]\n",
      "[[ 1  2  3 11 12 13]\n",
      " [ 4  5  6 14 15 16]\n",
      " [ 7  8  9 17 18 19]]\n"
     ]
    }
   ],
   "source": [
    "a = np.arange(1,10).reshape(3,3)\n",
    "b = np.arange(11,20).reshape(3,3)\n",
    "c = np.concatenate((a,b),1)\n",
    "print(a)\n",
    "print(b)\n",
    "print(c)\n"
   ]
  },
  {
   "cell_type": "code",
   "execution_count": 22,
   "id": "d2593951",
   "metadata": {},
   "outputs": [
    {
     "name": "stdout",
     "output_type": "stream",
     "text": [
      "[[11 12 13]\n",
      " [14 15 16]\n",
      " [17 18 19]]\n",
      "[[21 22 23]\n",
      " [24 25 26]\n",
      " [27 28 29]]\n",
      "[[11 12 13 21 22 23]\n",
      " [14 15 16 24 25 26]\n",
      " [17 18 19 27 28 29]]\n"
     ]
    }
   ],
   "source": [
    "c = np.arange(11,20).reshape(3,3)\n",
    "d = np.arange(21,30).reshape(3,3)\n",
    "merged = np.concatenate((c,d),1)\n",
    "\n",
    "print(c)\n",
    "print(d)\n",
    "print(merged)\n"
   ]
  },
  {
   "cell_type": "code",
   "execution_count": 36,
   "id": "09b3ebc1",
   "metadata": {},
   "outputs": [
    {
     "name": "stdout",
     "output_type": "stream",
     "text": [
      "[[1 2 3]\n",
      " [4 5 6]\n",
      " [7 8 9]]\n",
      "[[11 12 13]\n",
      " [14 15 16]\n",
      " [17 18 19]]\n",
      "[[ 1.  2.  3.]\n",
      " [ 4.  5.  6.]\n",
      " [ 7.  8.  9.]\n",
      " [11. 12. 13.]\n",
      " [14. 15. 16.]\n",
      " [17. 18. 19.]]\n"
     ]
    }
   ],
   "source": [
    "a = np.arange(1,10).reshape(3,3)\n",
    "b = np.arange(11,20).reshape(3,3)\n",
    "c = np.empty(18).reshape(6,3)\n",
    "\n",
    "np.concatenate((a,b), 0, out=c)\n",
    "print(a)\n",
    "print(b)\n",
    "print(c)"
   ]
  },
  {
   "cell_type": "code",
   "execution_count": 39,
   "id": "08191756",
   "metadata": {},
   "outputs": [
    {
     "name": "stdout",
     "output_type": "stream",
     "text": [
      "[[ 1  2  3]\n",
      " [ 4  5  6]\n",
      " [ 7  8  9]\n",
      " [10 11 12]\n",
      " [13 14 15]\n",
      " [16 17 18]]\n",
      "[[11 12 13]\n",
      " [14 15 16]\n",
      " [17 18 19]]\n",
      "[[21 22 23]\n",
      " [24 25 26]\n",
      " [27 28 29]]\n",
      "[[11 12 13]\n",
      " [14 15 16]\n",
      " [17 18 19]\n",
      " [21 22 23]\n",
      " [24 25 26]\n",
      " [27 28 29]]\n"
     ]
    }
   ],
   "source": [
    "a = np.arange(11,20).reshape(3,3)\n",
    "b = np.arange(21,30).reshape(3,3)\n",
    "c = np.arange(1,19).reshape(6,3)\n",
    "print(c)\n",
    "np.concatenate((a,b), 0, out=c)\n",
    "print(a)\n",
    "print(b)\n",
    "print(c)"
   ]
  },
  {
   "cell_type": "code",
   "execution_count": 52,
   "id": "defe6e19",
   "metadata": {},
   "outputs": [
    {
     "name": "stdout",
     "output_type": "stream",
     "text": [
      "[[[0 1]\n",
      "  [2 3]]\n",
      "\n",
      " [[4 5]\n",
      "  [6 7]]]\n",
      "[[[ 8  9]\n",
      "  [10 11]]\n",
      "\n",
      " [[12 13]\n",
      "  [14 15]]]\n",
      "[[[ 0  1]\n",
      "  [ 2  3]\n",
      "  [ 8  9]\n",
      "  [10 11]]\n",
      "\n",
      " [[ 4  5]\n",
      "  [ 6  7]\n",
      "  [12 13]\n",
      "  [14 15]]]\n"
     ]
    }
   ],
   "source": [
    "a = np.arange(8).reshape(2,2,2)\n",
    "b = np.arange(8,16).reshape(2,2,2)\n",
    "\n",
    "d = np.concatenate((a,b), 1)\n",
    "print(a)\n",
    "print(b)\n",
    "print(d)"
   ]
  },
  {
   "cell_type": "code",
   "execution_count": 5,
   "id": "f9997a99",
   "metadata": {},
   "outputs": [
    {
     "name": "stdout",
     "output_type": "stream",
     "text": [
      "[[[0 1]\n",
      "  [2 3]]\n",
      "\n",
      " [[4 5]\n",
      "  [6 7]]]\n",
      "[[[ 8  9]\n",
      "  [10 11]]\n",
      "\n",
      " [[12 13]\n",
      "  [14 15]]]\n",
      "[[[ 0  1  8  9]\n",
      "  [ 2  3 10 11]]\n",
      "\n",
      " [[ 4  5 12 13]\n",
      "  [ 6  7 14 15]]]\n"
     ]
    }
   ],
   "source": [
    "a = np.arange(8).reshape(2,2,2)\n",
    "b = np.arange(8,16).reshape(2,2,2)\n",
    "print(a)\n",
    "print(b)\n",
    "c = np.concatenate((a,b),2)\n",
    "print(c)"
   ]
  },
  {
   "cell_type": "markdown",
   "id": "79d164e1",
   "metadata": {},
   "source": [
    "# 9/12/2022"
   ]
  },
  {
   "cell_type": "code",
   "execution_count": 13,
   "id": "8f5ffc02",
   "metadata": {},
   "outputs": [
    {
     "name": "stdout",
     "output_type": "stream",
     "text": [
      "1\n",
      "2\n",
      "[0 1 2 3 4]\n",
      "[5 6 7 8 9]\n",
      "[[0 5]\n",
      " [1 6]\n",
      " [2 7]\n",
      " [3 8]\n",
      " [4 9]]\n"
     ]
    }
   ],
   "source": [
    "a = np.arange(5)\n",
    "b = np.arange(5,10)\n",
    "\n",
    "c = np.stack((a,b),1)\n",
    "print(a.ndim)\n",
    "print(c.ndim)\n",
    "print(a)\n",
    "print(b)\n",
    "print(c)"
   ]
  },
  {
   "cell_type": "code",
   "execution_count": 17,
   "id": "f2417d66",
   "metadata": {},
   "outputs": [
    {
     "name": "stdout",
     "output_type": "stream",
     "text": [
      "[0 1 2 3 4]\n",
      "[5 6 7 8 9]\n",
      "[[0 5]\n",
      " [1 6]\n",
      " [2 7]\n",
      " [3 8]\n",
      " [4 9]]\n",
      "[[0 1 2 3 4]\n",
      " [5 6 7 8 9]]\n",
      "(2, 5)\n",
      "(5, 2)\n"
     ]
    }
   ],
   "source": [
    "a = np.arange(5)\n",
    "b = np.arange(5,10)\n",
    "\n",
    "c = np.stack((a,b),1)\n",
    "\n",
    "# print(a.ndim)\n",
    "# print(c.ndim)\n",
    "print(a)\n",
    "print(b)\n",
    "print(c)\n",
    "print(np.stack((a,b),0))\n",
    "print(np.stack((a,b),0).shape)\n",
    "print(np.stack((a,b),1).shape)\n"
   ]
  },
  {
   "cell_type": "code",
   "execution_count": 18,
   "id": "484d6641",
   "metadata": {},
   "outputs": [
    {
     "name": "stdout",
     "output_type": "stream",
     "text": [
      "[[[ 1  2  3]\n",
      "  [ 4  5  6]\n",
      "  [ 7  8  9]]\n",
      "\n",
      " [[10 11 12]\n",
      "  [13 14 15]\n",
      "  [16 17 18]]]\n",
      "[[[18 19 20]\n",
      "  [21 22 23]\n",
      "  [24 25 26]]\n",
      "\n",
      " [[27 28 29]\n",
      "  [30 31 32]\n",
      "  [33 34 35]]]\n",
      "[[[[ 1  2  3]\n",
      "   [ 4  5  6]\n",
      "   [ 7  8  9]]\n",
      "\n",
      "  [[10 11 12]\n",
      "   [13 14 15]\n",
      "   [16 17 18]]]\n",
      "\n",
      "\n",
      " [[[18 19 20]\n",
      "   [21 22 23]\n",
      "   [24 25 26]]\n",
      "\n",
      "  [[27 28 29]\n",
      "   [30 31 32]\n",
      "   [33 34 35]]]]\n",
      "[[[[ 1  2  3]\n",
      "   [ 4  5  6]\n",
      "   [ 7  8  9]]\n",
      "\n",
      "  [[18 19 20]\n",
      "   [21 22 23]\n",
      "   [24 25 26]]]\n",
      "\n",
      "\n",
      " [[[10 11 12]\n",
      "   [13 14 15]\n",
      "   [16 17 18]]\n",
      "\n",
      "  [[27 28 29]\n",
      "   [30 31 32]\n",
      "   [33 34 35]]]]\n",
      "[[[[ 1  2  3]\n",
      "   [18 19 20]]\n",
      "\n",
      "  [[ 4  5  6]\n",
      "   [21 22 23]]\n",
      "\n",
      "  [[ 7  8  9]\n",
      "   [24 25 26]]]\n",
      "\n",
      "\n",
      " [[[10 11 12]\n",
      "   [27 28 29]]\n",
      "\n",
      "  [[13 14 15]\n",
      "   [30 31 32]]\n",
      "\n",
      "  [[16 17 18]\n",
      "   [33 34 35]]]]\n"
     ]
    }
   ],
   "source": [
    "a = np.arange(1,19).reshape(2,3,3)\n",
    "b = np.arange(18,36).reshape(2,3,3)\n",
    "print(a)\n",
    "print(b)\n",
    "\n",
    "print(np.stack((a,b),axis=0))\n",
    "print(np.stack((a,b),axis=1))\n",
    "print(np.stack((a,b),axis=2))"
   ]
  },
  {
   "cell_type": "code",
   "execution_count": null,
   "id": "a8b5ff2e",
   "metadata": {},
   "outputs": [],
   "source": []
  }
 ],
 "metadata": {
  "kernelspec": {
   "display_name": "Python 3 (ipykernel)",
   "language": "python",
   "name": "python3"
  },
  "language_info": {
   "codemirror_mode": {
    "name": "ipython",
    "version": 3
   },
   "file_extension": ".py",
   "mimetype": "text/x-python",
   "name": "python",
   "nbconvert_exporter": "python",
   "pygments_lexer": "ipython3",
   "version": "3.9.12"
  },
  "vscode": {
   "interpreter": {
    "hash": "76d7c06053c3456e5600312cec90888656fc0ed30c03d8425b9dac6e4fc8e014"
   }
  }
 },
 "nbformat": 4,
 "nbformat_minor": 5
}
