{
 "cells": [
  {
   "cell_type": "markdown",
   "id": "d060b0a1",
   "metadata": {},
   "source": [
    "# 17/12/2022\n"
   ]
  },
  {
   "cell_type": "code",
   "execution_count": 3,
   "id": "23e09f0c",
   "metadata": {},
   "outputs": [],
   "source": [
    "import numpy as np"
   ]
  },
  {
   "cell_type": "code",
   "execution_count": 4,
   "id": "7f22cf42",
   "metadata": {},
   "outputs": [
    {
     "name": "stdout",
     "output_type": "stream",
     "text": [
      "[87 67 66 65 55 54 45 43 33 32 21 11]\n",
      "[87 67 66 65 55 54 45 43 33 32 21 11]\n"
     ]
    }
   ],
   "source": [
    "arr = np.array([45,65,43,32,21,54,67,87,11,55,66,33])\n",
    "# sorted_arr= np.sort(arr)\n",
    "sorted_arr= np.sort(arr)[::-1]\n",
    "sorted_arr1= -np.sort(-arr)\n",
    "print(sorted_arr)\n",
    "print(sorted_arr1)"
   ]
  },
  {
   "cell_type": "code",
   "execution_count": 15,
   "id": "10dcf0b9",
   "metadata": {},
   "outputs": [
    {
     "name": "stdout",
     "output_type": "stream",
     "text": [
      "[[1 2 3]\n",
      " [4 5 6]]\n",
      "[[1 1 2 3]\n",
      " [4 2 5 6]]\n"
     ]
    }
   ],
   "source": [
    "a = np.arange(1,7).reshape(2,3)\n",
    "print(a)\n",
    "# print(np.insert(a,1,2,1))\n",
    "print(np.insert(a,[1],[[1],[2]],axis=1))"
   ]
  },
  {
   "cell_type": "code",
   "execution_count": 17,
   "id": "d48c59a9",
   "metadata": {},
   "outputs": [
    {
     "name": "stdout",
     "output_type": "stream",
     "text": [
      "[[0 1 2 3]\n",
      " [4 5 6 7]]\n",
      "[[  0 999   1   2 999   3]\n",
      " [  4 999   5   6 999   7]]\n"
     ]
    }
   ],
   "source": [
    "a = np.arange(8).reshape(2, 4)\n",
    "x = (1, 3)\n",
    "print(a)\n",
    "print(np.insert(a, x, 999, axis=1))\n"
   ]
  },
  {
   "cell_type": "code",
   "execution_count": 20,
   "id": "2d9f0c9d",
   "metadata": {},
   "outputs": [
    {
     "name": "stdout",
     "output_type": "stream",
     "text": [
      "[0 1 2 3 4 1 2 3]\n"
     ]
    }
   ],
   "source": [
    "a = np.arange(5)\n",
    "print(np.append(a,[1,2,3]))"
   ]
  },
  {
   "cell_type": "code",
   "execution_count": 29,
   "id": "78778141",
   "metadata": {},
   "outputs": [
    {
     "name": "stdout",
     "output_type": "stream",
     "text": [
      "[[0 1 2]\n",
      " [3 4 5]\n",
      " [6 7 8]]\n",
      "2\n"
     ]
    }
   ],
   "source": [
    "b = np.arange(9).reshape(3,3)\n",
    "print(b)\n",
    "print(b.ndim)\n",
    "# print(np.append(a,[10,11,12],axis=0))"
   ]
  },
  {
   "cell_type": "code",
   "execution_count": 35,
   "id": "ad1bda2b",
   "metadata": {},
   "outputs": [
    {
     "name": "stdout",
     "output_type": "stream",
     "text": [
      "[[0 1 2]\n",
      " [3 4 5]]\n",
      "[[1 2]\n",
      " [4 5]]\n",
      "[[3 4 5]]\n"
     ]
    }
   ],
   "source": [
    "a = np.arange(6).reshape(2,3)\n",
    "print(a)\n",
    "\n",
    "print(np.delete(a,0,1))\n",
    "print(np.delete(a,0,0))"
   ]
  },
  {
   "cell_type": "code",
   "execution_count": 40,
   "id": "e96e3e4e",
   "metadata": {},
   "outputs": [
    {
     "name": "stdout",
     "output_type": "stream",
     "text": [
      "[[0 1 2 3 4]\n",
      " [5 6 7 8 9]]\n",
      "[[1 3]\n",
      " [6 8]]\n"
     ]
    }
   ],
   "source": [
    "a = np.arange(10).reshape(2,5)\n",
    "print(a)\n",
    "\n",
    "print(np.delete(a,np.s_[::2], 1))\n",
    "# print(np.delete(a,0,0))"
   ]
  },
  {
   "cell_type": "code",
   "execution_count": 42,
   "id": "5fc04027",
   "metadata": {},
   "outputs": [
    {
     "name": "stdout",
     "output_type": "stream",
     "text": [
      "[[0 1 2 3]\n",
      " [4 5 6 7]]\n",
      "[[0 2]\n",
      " [4 6]]\n"
     ]
    }
   ],
   "source": [
    "a = np.arange(8).reshape(2, 4)\n",
    "x = (1, 3)\n",
    "print(a)\n",
    "print(np.delete(a, x, axis=1))\n"
   ]
  },
  {
   "cell_type": "code",
   "execution_count": 45,
   "id": "8aaca497",
   "metadata": {},
   "outputs": [
    {
     "name": "stdout",
     "output_type": "stream",
     "text": [
      "[[0 1 2 3]\n",
      " [4 5 6 7]]\n",
      "[[ 8  9]\n",
      " [10 11]\n",
      " [12 13]\n",
      " [14 15]]\n",
      "[[ 76  82]\n",
      " [252 274]]\n"
     ]
    }
   ],
   "source": [
    "a = np.arange(8).reshape(2, 4)\n",
    "b = np.arange(8,16).reshape(4,2)\n",
    "print(a)\n",
    "print(b)\n",
    "print(np.dot(a,b))"
   ]
  },
  {
   "cell_type": "code",
   "execution_count": 59,
   "id": "3968c4ca",
   "metadata": {},
   "outputs": [
    {
     "name": "stdout",
     "output_type": "stream",
     "text": [
      "[[0 1]\n",
      " [2 3]]\n",
      "[[ 8  9]\n",
      " [10 11]]\n",
      "[[-1.5  0.5]\n",
      " [ 1.   0. ]]\n",
      "[[-5.5  4.5]\n",
      " [ 5.  -4. ]]\n",
      "-------------------------------------------------------------------------------------------------------------------\n",
      "[[1. 0.]\n",
      " [0. 1.]]\n",
      "[[1. 0.]\n",
      " [0. 1.]]\n"
     ]
    }
   ],
   "source": [
    "a = np.arange(4).reshape(2,2)\n",
    "b = np.matrix(np.arange(8,12).reshape(2,2))\n",
    "c = np.linalg.inv(a)\n",
    "d = np.linalg.inv(b)\n",
    "print(a)\n",
    "print(b)\n",
    "print(c)\n",
    "print(d)\n",
    "print(\"-------------------------------------------------------------------------------------------------------------------\")\n",
    "e = c.dot(a)\n",
    "print(e)\n",
    "f = b*d\n",
    "print(f)"
   ]
  },
  {
   "cell_type": "code",
   "execution_count": 60,
   "id": "ebbe7da1",
   "metadata": {},
   "outputs": [
    {
     "name": "stdout",
     "output_type": "stream",
     "text": [
      "Help on function det in module numpy.linalg:\n",
      "\n",
      "det(a)\n",
      "    Compute the determinant of an array.\n",
      "    \n",
      "    Parameters\n",
      "    ----------\n",
      "    a : (..., M, M) array_like\n",
      "        Input array to compute determinants for.\n",
      "    \n",
      "    Returns\n",
      "    -------\n",
      "    det : (...) array_like\n",
      "        Determinant of `a`.\n",
      "    \n",
      "    See Also\n",
      "    --------\n",
      "    slogdet : Another way to represent the determinant, more suitable\n",
      "      for large matrices where underflow/overflow may occur.\n",
      "    scipy.linalg.det : Similar function in SciPy.\n",
      "    \n",
      "    Notes\n",
      "    -----\n",
      "    \n",
      "    .. versionadded:: 1.8.0\n",
      "    \n",
      "    Broadcasting rules apply, see the `numpy.linalg` documentation for\n",
      "    details.\n",
      "    \n",
      "    The determinant is computed via LU factorization using the LAPACK\n",
      "    routine ``z/dgetrf``.\n",
      "    \n",
      "    Examples\n",
      "    --------\n",
      "    The determinant of a 2-D array [[a, b], [c, d]] is ad - bc:\n",
      "    \n",
      "    >>> a = np.array([[1, 2], [3, 4]])\n",
      "    >>> np.linalg.det(a)\n",
      "    -2.0 # may vary\n",
      "    \n",
      "    Computing determinants for a stack of matrices:\n",
      "    \n",
      "    >>> a = np.array([ [[1, 2], [3, 4]], [[1, 2], [2, 1]], [[1, 3], [3, 1]] ])\n",
      "    >>> a.shape\n",
      "    (3, 2, 2)\n",
      "    >>> np.linalg.det(a)\n",
      "    array([-2., -3., -8.])\n",
      "\n"
     ]
    }
   ],
   "source": [
    "help(np.linalg.det) #determinant"
   ]
  },
  {
   "cell_type": "code",
   "execution_count": 61,
   "id": "f826099d",
   "metadata": {},
   "outputs": [
    {
     "name": "stdout",
     "output_type": "stream",
     "text": [
      "-9.51619735392994e-16\n"
     ]
    }
   ],
   "source": [
    "a = np.arange(1,10).reshape(3,3)\n",
    "a_det = np.linalg.det(a)\n",
    "print(a_det)"
   ]
  },
  {
   "cell_type": "code",
   "execution_count": 62,
   "id": "585ef550",
   "metadata": {},
   "outputs": [
    {
     "name": "stdout",
     "output_type": "stream",
     "text": [
      "[1500.  700.]\n"
     ]
    }
   ],
   "source": [
    "# it will give value of x and y from two equation\n",
    "c = np.array([[1,1],[3,8]])\n",
    "b = np.array([2200,10100])\n",
    "r = np.linalg.solve(c,b)\n",
    "print(r)"
   ]
  },
  {
   "cell_type": "code",
   "execution_count": 63,
   "id": "d6b0462f",
   "metadata": {},
   "outputs": [
    {
     "name": "stdout",
     "output_type": "stream",
     "text": [
      "Help on function solve in module numpy.linalg:\n",
      "\n",
      "solve(a, b)\n",
      "    Solve a linear matrix equation, or system of linear scalar equations.\n",
      "    \n",
      "    Computes the \"exact\" solution, `x`, of the well-determined, i.e., full\n",
      "    rank, linear matrix equation `ax = b`.\n",
      "    \n",
      "    Parameters\n",
      "    ----------\n",
      "    a : (..., M, M) array_like\n",
      "        Coefficient matrix.\n",
      "    b : {(..., M,), (..., M, K)}, array_like\n",
      "        Ordinate or \"dependent variable\" values.\n",
      "    \n",
      "    Returns\n",
      "    -------\n",
      "    x : {(..., M,), (..., M, K)} ndarray\n",
      "        Solution to the system a x = b.  Returned shape is identical to `b`.\n",
      "    \n",
      "    Raises\n",
      "    ------\n",
      "    LinAlgError\n",
      "        If `a` is singular or not square.\n",
      "    \n",
      "    See Also\n",
      "    --------\n",
      "    scipy.linalg.solve : Similar function in SciPy.\n",
      "    \n",
      "    Notes\n",
      "    -----\n",
      "    \n",
      "    .. versionadded:: 1.8.0\n",
      "    \n",
      "    Broadcasting rules apply, see the `numpy.linalg` documentation for\n",
      "    details.\n",
      "    \n",
      "    The solutions are computed using LAPACK routine ``_gesv``.\n",
      "    \n",
      "    `a` must be square and of full-rank, i.e., all rows (or, equivalently,\n",
      "    columns) must be linearly independent; if either is not true, use\n",
      "    `lstsq` for the least-squares best \"solution\" of the\n",
      "    system/equation.\n",
      "    \n",
      "    References\n",
      "    ----------\n",
      "    .. [1] G. Strang, *Linear Algebra and Its Applications*, 2nd Ed., Orlando,\n",
      "           FL, Academic Press, Inc., 1980, pg. 22.\n",
      "    \n",
      "    Examples\n",
      "    --------\n",
      "    Solve the system of equations ``x0 + 2 * x1 = 1`` and ``3 * x0 + 5 * x1 = 2``:\n",
      "    \n",
      "    >>> a = np.array([[1, 2], [3, 5]])\n",
      "    >>> b = np.array([1, 2])\n",
      "    >>> x = np.linalg.solve(a, b)\n",
      "    >>> x\n",
      "    array([-1.,  1.])\n",
      "    \n",
      "    Check that the solution is correct:\n",
      "    \n",
      "    >>> np.allclose(np.dot(a, x), b)\n",
      "    True\n",
      "\n"
     ]
    }
   ],
   "source": [
    "help(np.linalg.solve)"
   ]
  },
  {
   "cell_type": "code",
   "execution_count": 66,
   "id": "a187dd2e",
   "metadata": {},
   "outputs": [
    {
     "name": "stdout",
     "output_type": "stream",
     "text": [
      "[ 3.98039216 -5.1372549  -3.09803922]\n"
     ]
    }
   ],
   "source": [
    "# 2x - y = z = 10\n",
    "# x + 2y -3z = 3\n",
    "# 9x + y + 7z = 9\n",
    "# find the value of x , y and z\n",
    "\n",
    "a = np.array([[2, -1, 1],[1, 2, -3],[9, 1, 7]])\n",
    "b = np.array([10, 3, 9])\n",
    "result = np.linalg.solve(a,b)\n",
    "print(result)"
   ]
  },
  {
   "cell_type": "code",
   "execution_count": 67,
   "id": "c778c562",
   "metadata": {},
   "outputs": [
    {
     "name": "stdout",
     "output_type": "stream",
     "text": [
      "12\n",
      "99\n",
      "54.714285714285715\n"
     ]
    }
   ],
   "source": [
    "a = np.array([23,65,54,32,12,98,99])\n",
    "print(np.min(a))\n",
    "print(np.max(a))\n",
    "print(np.average(a))"
   ]
  },
  {
   "cell_type": "code",
   "execution_count": 69,
   "id": "012e6814",
   "metadata": {},
   "outputs": [
    {
     "name": "stdout",
     "output_type": "stream",
     "text": [
      "[[100  20  30]\n",
      " [ 10  50  60]\n",
      " [ 25  15  18]\n",
      " [  4   5  19]]\n",
      "4\n",
      "[ 4  5 18]\n",
      "[20 10 15  4]\n"
     ]
    }
   ],
   "source": [
    "a  = np.array([[100,20,30],[10,50,60],[25,15,18],[4,5,19]])\n",
    "print(a)\n",
    "print(np.min(a))\n",
    "print(np.min(a,axis=0))\n",
    "print(np.min(a,axis=1))\n"
   ]
  },
  {
   "cell_type": "code",
   "execution_count": 70,
   "id": "a9cdd92b",
   "metadata": {},
   "outputs": [
    {
     "name": "stdout",
     "output_type": "stream",
     "text": [
      "[[100  20  30]\n",
      " [ 10  50  60]\n",
      " [ 25  15  18]\n",
      " [  4   5  19]]\n",
      "100\n",
      "[100  50  60]\n",
      "[100  60  25  19]\n"
     ]
    }
   ],
   "source": [
    "a  = np.array([[100,20,30],[10,50,60],[25,15,18],[4,5,19]])\n",
    "print(a)\n",
    "print(np.max(a))\n",
    "print(np.max(a,axis=0))\n",
    "print(np.max(a,axis=1))"
   ]
  },
  {
   "cell_type": "code",
   "execution_count": 71,
   "id": "cb0cb9c4",
   "metadata": {},
   "outputs": [
    {
     "name": "stdout",
     "output_type": "stream",
     "text": [
      "[[100  20  30]\n",
      " [ 10  50  60]\n",
      " [ 25  15  18]\n",
      " [  4   5  19]]\n",
      "356\n",
      "[139  90 127]\n",
      "[150 120  58  28]\n"
     ]
    }
   ],
   "source": [
    "a  = np.array([[100,20,30],[10,50,60],[25,15,18],[4,5,19]])\n",
    "print(a)\n",
    "print(np.sum(a))\n",
    "print(np.sum(a,axis=0))\n",
    "print(np.sum(a,axis=1))"
   ]
  },
  {
   "cell_type": "code",
   "execution_count": null,
   "id": "30c7be5d",
   "metadata": {},
   "outputs": [],
   "source": []
  }
 ],
 "metadata": {
  "kernelspec": {
   "display_name": "Python 3 (ipykernel)",
   "language": "python",
   "name": "python3"
  },
  "language_info": {
   "codemirror_mode": {
    "name": "ipython",
    "version": 3
   },
   "file_extension": ".py",
   "mimetype": "text/x-python",
   "name": "python",
   "nbconvert_exporter": "python",
   "pygments_lexer": "ipython3",
   "version": "3.9.12"
  }
 },
 "nbformat": 4,
 "nbformat_minor": 5
}
