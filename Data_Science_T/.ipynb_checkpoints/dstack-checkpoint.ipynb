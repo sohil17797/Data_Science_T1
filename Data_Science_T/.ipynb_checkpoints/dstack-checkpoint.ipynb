{
 "cells": [
  {
   "cell_type": "code",
   "execution_count": 1,
   "id": "e5cd8f0c",
   "metadata": {},
   "outputs": [],
   "source": [
    "import numpy as np\n"
   ]
  },
  {
   "cell_type": "code",
   "execution_count": 2,
   "id": "e881ae31",
   "metadata": {},
   "outputs": [
    {
     "name": "stdout",
     "output_type": "stream",
     "text": [
      "[0 1 2 3 4]\n",
      "[5 6 7 8 9]\n",
      "[[[0 5]\n",
      "  [1 6]\n",
      "  [2 7]\n",
      "  [3 8]\n",
      "  [4 9]]]\n"
     ]
    }
   ],
   "source": [
    "a = np.arange(5)\n",
    "b = np.arange(5,10)\n",
    "print(a)\n",
    "print(b)\n",
    "\n",
    "print(np.dstack((a,b)))"
   ]
  },
  {
   "cell_type": "code",
   "execution_count": 3,
   "id": "3a203d8f",
   "metadata": {},
   "outputs": [
    {
     "name": "stdout",
     "output_type": "stream",
     "text": [
      "[[0 1 2]\n",
      " [3 4 5]]\n",
      "[[ 6  7  8]\n",
      " [ 9 10 11]]\n",
      "[[[ 0  6]\n",
      "  [ 1  7]\n",
      "  [ 2  8]]\n",
      "\n",
      " [[ 3  9]\n",
      "  [ 4 10]\n",
      "  [ 5 11]]]\n"
     ]
    }
   ],
   "source": [
    "a = np.arange(6).reshape(2,3)\n",
    "b = np.arange(6,12).reshape(2,3)\n",
    "print(a)\n",
    "print(b)\n",
    "\n",
    "print(np.dstack((a,b)))"
   ]
  },
  {
   "cell_type": "code",
   "execution_count": 4,
   "id": "4a98e482",
   "metadata": {},
   "outputs": [
    {
     "name": "stdout",
     "output_type": "stream",
     "text": [
      "[[[ 0  1  2]\n",
      "  [ 3  4  5]\n",
      "  [ 6  7  8]]\n",
      "\n",
      " [[ 9 10 11]\n",
      "  [12 13 14]\n",
      "  [15 16 17]]]\n",
      "[[[18 19 20]\n",
      "  [21 22 23]\n",
      "  [24 25 26]]\n",
      "\n",
      " [[27 28 29]\n",
      "  [30 31 32]\n",
      "  [33 34 35]]]\n",
      "[[[ 0  1  2 18 19 20]\n",
      "  [ 3  4  5 21 22 23]\n",
      "  [ 6  7  8 24 25 26]]\n",
      "\n",
      " [[ 9 10 11 27 28 29]\n",
      "  [12 13 14 30 31 32]\n",
      "  [15 16 17 33 34 35]]]\n"
     ]
    }
   ],
   "source": [
    "a = np.arange(18).reshape(2,3,3)\n",
    "b = np.arange(18,36).reshape(2,3,3)\n",
    "print(a)\n",
    "print(b)\n",
    "\n",
    "print(np.dstack((a,b)))"
   ]
  },
  {
   "cell_type": "code",
   "execution_count": null,
   "id": "c4508c2b",
   "metadata": {},
   "outputs": [],
   "source": []
  }
 ],
 "metadata": {
  "kernelspec": {
   "display_name": "Python 3 (ipykernel)",
   "language": "python",
   "name": "python3"
  },
  "language_info": {
   "codemirror_mode": {
    "name": "ipython",
    "version": 3
   },
   "file_extension": ".py",
   "mimetype": "text/x-python",
   "name": "python",
   "nbconvert_exporter": "python",
   "pygments_lexer": "ipython3",
   "version": "3.9.12"
  }
 },
 "nbformat": 4,
 "nbformat_minor": 5
}
