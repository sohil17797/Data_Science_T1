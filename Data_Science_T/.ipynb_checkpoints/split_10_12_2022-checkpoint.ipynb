{
 "cells": [
  {
   "cell_type": "code",
   "execution_count": 1,
   "id": "220d381e",
   "metadata": {},
   "outputs": [],
   "source": [
    "import numpy as np"
   ]
  },
  {
   "cell_type": "code",
   "execution_count": 6,
   "id": "69366549",
   "metadata": {},
   "outputs": [
    {
     "name": "stdout",
     "output_type": "stream",
     "text": [
      "[ 1  2  3  4  5  6  7  8  9 10 11 12 13 14 15]\n",
      "[array([1, 2, 3]), array([4, 5, 6]), array([7, 8, 9]), array([10, 11, 12]), array([13, 14, 15])]\n"
     ]
    }
   ],
   "source": [
    "a = np.arange(1,16)\n",
    "print(a)\n",
    "# print(np.split(a,4)) should be in equal division\n",
    "print(np.split(a,5))"
   ]
  },
  {
   "cell_type": "code",
   "execution_count": 8,
   "id": "e5ab749a",
   "metadata": {},
   "outputs": [
    {
     "name": "stdout",
     "output_type": "stream",
     "text": [
      "[[ 1  2  3  4]\n",
      " [ 5  6  7  8]\n",
      " [ 9 10 11 12]\n",
      " [13 14 15 16]\n",
      " [17 18 19 20]\n",
      " [21 22 23 24]]\n",
      "[array([[ 1,  2,  3,  4],\n",
      "       [ 5,  6,  7,  8],\n",
      "       [ 9, 10, 11, 12]]), array([[13, 14, 15, 16],\n",
      "       [17, 18, 19, 20],\n",
      "       [21, 22, 23, 24]])]\n"
     ]
    }
   ],
   "source": [
    "a = np.arange(1,25).reshape(6,4)\n",
    "print(a)\n",
    "\n",
    "print(np.split(a,2))"
   ]
  },
  {
   "cell_type": "code",
   "execution_count": 11,
   "id": "eb980bf5",
   "metadata": {},
   "outputs": [
    {
     "name": "stdout",
     "output_type": "stream",
     "text": [
      "[[ 1  2  3  4]\n",
      " [ 5  6  7  8]\n",
      " [ 9 10 11 12]\n",
      " [13 14 15 16]\n",
      " [17 18 19 20]\n",
      " [21 22 23 24]]\n",
      "[array([[ 1],\n",
      "       [ 5],\n",
      "       [ 9],\n",
      "       [13],\n",
      "       [17],\n",
      "       [21]]), array([[ 2],\n",
      "       [ 6],\n",
      "       [10],\n",
      "       [14],\n",
      "       [18],\n",
      "       [22]]), array([[ 3],\n",
      "       [ 7],\n",
      "       [11],\n",
      "       [15],\n",
      "       [19],\n",
      "       [23]]), array([[ 4],\n",
      "       [ 8],\n",
      "       [12],\n",
      "       [16],\n",
      "       [20],\n",
      "       [24]])]\n"
     ]
    }
   ],
   "source": [
    "a = np.arange(1,25).reshape(6,4)\n",
    "print(a)\n",
    "\n",
    "print(np.split(a,4,axis=1))"
   ]
  },
  {
   "cell_type": "code",
   "execution_count": 12,
   "id": "f5d95a14",
   "metadata": {},
   "outputs": [
    {
     "name": "stdout",
     "output_type": "stream",
     "text": [
      "[ 10  20  30  40  50  60  70  80  90 100]\n",
      "[array([10, 20]), array([30, 40, 50]), array([60, 70]), array([ 80,  90, 100])]\n"
     ]
    }
   ],
   "source": [
    "a = np.arange(10,101,10)\n",
    "print(a)\n",
    "print(np.split(a,[2,5,7])) # here 2,5,7 is index number "
   ]
  },
  {
   "cell_type": "code",
   "execution_count": 17,
   "id": "6f9a99da",
   "metadata": {},
   "outputs": [
    {
     "name": "stdout",
     "output_type": "stream",
     "text": [
      "[ 5 10 15 20 25 30 35 40 45 50 55 60 65 70 75 80 85 90 95]\n",
      "[array([ 5, 10, 15, 20, 25]), array([30, 35, 40, 45, 50]), array([55, 60, 65, 70, 75]), array([80, 85, 90, 95])]\n"
     ]
    }
   ],
   "source": [
    "a = np.arange(5,100,5)\n",
    "print(a)\n",
    "print(np.split(a,[5,10,15]))"
   ]
  },
  {
   "cell_type": "code",
   "execution_count": 20,
   "id": "a617885e",
   "metadata": {},
   "outputs": [
    {
     "name": "stdout",
     "output_type": "stream",
     "text": [
      "[[ 1  2  3  4  5  6]\n",
      " [ 7  8  9 10 11 12]]\n",
      "[[1 2]\n",
      " [7 8]]\n",
      "[[ 3  4]\n",
      " [ 9 10]]\n",
      "[[ 5  6]\n",
      " [11 12]]\n",
      "[]\n",
      "[array([[1, 2],\n",
      "       [7, 8]]), array([[ 3,  4],\n",
      "       [ 9, 10]]), array([[ 5,  6],\n",
      "       [11, 12]]), array([], shape=(2, 0), dtype=int32)]\n"
     ]
    }
   ],
   "source": [
    "a = np.arange(1,13).reshape(2,6)\n",
    "print(a)\n",
    "result =np.split(a,[2,4,6],axis=1)\n",
    "print(result[0])\n",
    "print(result[1])\n",
    "print(result[2])\n",
    "print(result[3])\n",
    "print(result)"
   ]
  },
  {
   "cell_type": "code",
   "execution_count": 21,
   "id": "77b3ab3a",
   "metadata": {},
   "outputs": [
    {
     "name": "stdout",
     "output_type": "stream",
     "text": [
      "[[ 1  2  3  4  5  6]\n",
      " [ 7  8  9 10 11 12]]\n",
      "[[1 2]\n",
      " [7 8]]\n",
      "[[3]\n",
      " [9]]\n",
      "[[ 4  5]\n",
      " [10 11]]\n",
      "[[ 6]\n",
      " [12]]\n",
      "[array([[1, 2],\n",
      "       [7, 8]]), array([[3],\n",
      "       [9]]), array([[ 4,  5],\n",
      "       [10, 11]]), array([[ 6],\n",
      "       [12]])]\n"
     ]
    }
   ],
   "source": [
    "a = np.arange(1,13).reshape(2,6)\n",
    "print(a)\n",
    "result =np.split(a,[2,3,5],axis=1)\n",
    "print(result[0])\n",
    "print(result[1])\n",
    "print(result[2])\n",
    "print(result[3])\n",
    "print(result)"
   ]
  },
  {
   "cell_type": "code",
   "execution_count": 26,
   "id": "59da8983",
   "metadata": {},
   "outputs": [
    {
     "name": "stdout",
     "output_type": "stream",
     "text": [
      "[[ 1  2  3]\n",
      " [ 4  5  6]\n",
      " [ 7  8  9]\n",
      " [10 11 12]]\n",
      "[[1 2 3]\n",
      " [4 5 6]]\n",
      "[[ 7  8  9]\n",
      " [10 11 12]]\n",
      "[array([[1, 2, 3],\n",
      "       [4, 5, 6]]), array([[ 7,  8,  9],\n",
      "       [10, 11, 12]])]\n"
     ]
    }
   ],
   "source": [
    "a = np.arange(1,13).reshape(4,3)\n",
    "print(a)\n",
    "result =np.vsplit(a,2)\n",
    "print(result[0])\n",
    "print(result[1])\n",
    "\n",
    "print(result)\n",
    "\n",
    "# row vise , 0 axis"
   ]
  },
  {
   "cell_type": "code",
   "execution_count": 27,
   "id": "0ee27b24",
   "metadata": {},
   "outputs": [
    {
     "name": "stdout",
     "output_type": "stream",
     "text": [
      "[[ 1  2  3  4  5  6]\n",
      " [ 7  8  9 10 11 12]]\n",
      "[[1 2]\n",
      " [7 8]]\n",
      "[[ 3  4]\n",
      " [ 9 10]]\n",
      "[[ 5  6]\n",
      " [11 12]]\n",
      "[]\n",
      "[array([[1, 2],\n",
      "       [7, 8]]), array([[ 3,  4],\n",
      "       [ 9, 10]]), array([[ 5,  6],\n",
      "       [11, 12]]), array([], shape=(2, 0), dtype=int32)]\n"
     ]
    }
   ],
   "source": [
    "a = np.arange(1,13).reshape(2,6)\n",
    "print(a)\n",
    "result =np.hsplit(a,[2,4,6])\n",
    "print(result[0])\n",
    "print(result[1])\n",
    "print(result[2])\n",
    "print(result[3])\n",
    "print(result)"
   ]
  },
  {
   "cell_type": "code",
   "execution_count": 34,
   "id": "7f8ce9ab",
   "metadata": {},
   "outputs": [
    {
     "name": "stdout",
     "output_type": "stream",
     "text": [
      "[[[ 1  2  3]\n",
      "  [ 4  5  6]]\n",
      "\n",
      " [[ 7  8  9]\n",
      "  [10 11 12]]]\n",
      "[[[ 1]\n",
      "  [ 4]]\n",
      "\n",
      " [[ 7]\n",
      "  [10]]]\n"
     ]
    },
    {
     "ename": "IndexError",
     "evalue": "list index out of range",
     "output_type": "error",
     "traceback": [
      "\u001b[1;31m---------------------------------------------------------------------------\u001b[0m",
      "\u001b[1;31mIndexError\u001b[0m                                Traceback (most recent call last)",
      "Input \u001b[1;32mIn [34]\u001b[0m, in \u001b[0;36m<cell line: 8>\u001b[1;34m()\u001b[0m\n\u001b[0;32m      5\u001b[0m \u001b[38;5;28mprint\u001b[39m(result[\u001b[38;5;241m0\u001b[39m])\n\u001b[0;32m      6\u001b[0m \u001b[38;5;66;03m# print(result[1])\u001b[39;00m\n\u001b[0;32m      7\u001b[0m \u001b[38;5;66;03m# print(result[2])\u001b[39;00m\n\u001b[1;32m----> 8\u001b[0m \u001b[38;5;28mprint\u001b[39m(\u001b[43mresult\u001b[49m\u001b[43m[\u001b[49m\u001b[38;5;241;43m3\u001b[39;49m\u001b[43m]\u001b[49m)\n\u001b[0;32m      9\u001b[0m \u001b[38;5;66;03m# print(result[2])\u001b[39;00m\n\u001b[0;32m     10\u001b[0m \u001b[38;5;28mprint\u001b[39m(result)\n",
      "\u001b[1;31mIndexError\u001b[0m: list index out of range"
     ]
    }
   ],
   "source": [
    "a = np.arange(1,13).reshape(2,2,3)\n",
    "print(a)\n",
    "\n",
    "result =np.dsplit(a,[1,2])\n",
    "print(result[0])\n",
    "# print(result[1])\n",
    "# print(result[2])\n",
    "\n",
    "print(result)\n",
    "# 3d or more\n"
   ]
  },
  {
   "cell_type": "code",
   "execution_count": null,
   "id": "a21c4c79",
   "metadata": {},
   "outputs": [],
   "source": []
  }
 ],
 "metadata": {
  "kernelspec": {
   "display_name": "Python 3 (ipykernel)",
   "language": "python",
   "name": "python3"
  },
  "language_info": {
   "codemirror_mode": {
    "name": "ipython",
    "version": 3
   },
   "file_extension": ".py",
   "mimetype": "text/x-python",
   "name": "python",
   "nbconvert_exporter": "python",
   "pygments_lexer": "ipython3",
   "version": "3.9.12"
  }
 },
 "nbformat": 4,
 "nbformat_minor": 5
}
